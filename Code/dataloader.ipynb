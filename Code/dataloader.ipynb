{
 "cells": [
  {
   "cell_type": "code",
   "execution_count": 1,
   "id": "85d989ba",
   "metadata": {},
   "outputs": [
    {
     "name": "stdout",
     "output_type": "stream",
     "text": [
      "YF.download() has changed argument auto_adjust default to True\n",
      "Fetched 5283 rows for ^GSPC\n",
      "Fetched 5283 rows for ^VIX\n"
     ]
    }
   ],
   "source": [
    "import yfinance as yf\n",
    "\n",
    "TICKER_SPX = '^GSPC' # S&P 500 index\n",
    "TICKER_VIX = '^VIX' # VIX index\n",
    "START_DATE = '2000-01-01'\n",
    "END_DATE = '2020-12-31'\n",
    "\n",
    "def fetch_data(ticker, start, end):\n",
    "    \"\"\"Fetches historical adjusted closing prices from Yahoo Finance.\"\"\"\n",
    "    try:\n",
    "        data = yf.download(ticker, start=start, end=end, progress=False)\n",
    "        if data is None or data.empty:\n",
    "            raise ValueError(f\"No data fetched for {ticker}\")\n",
    "        print(f\"Fetched {len(data)} rows for {ticker}\")\n",
    "        return data['Close']\n",
    "    except Exception as e:\n",
    "        print(f\"Error fetching data for {ticker}: {type(e).__name__}, {e}\")  # Print error type and message\n",
    "        return None\n",
    "\n",
    "# Fetch S&P 500 and VIX data\n",
    "spx_price = fetch_data(TICKER_SPX, START_DATE, END_DATE)\n",
    "vix_price = fetch_data(TICKER_VIX, START_DATE, END_DATE)\n",
    "\n",
    "spx_price.to_csv('spx_data.csv')\n",
    "vix_price.to_csv('vix_data.csv')"
   ]
  }
 ],
 "metadata": {
  "kernelspec": {
   "display_name": "algotrade",
   "language": "python",
   "name": "python3"
  },
  "language_info": {
   "codemirror_mode": {
    "name": "ipython",
    "version": 3
   },
   "file_extension": ".py",
   "mimetype": "text/x-python",
   "name": "python",
   "nbconvert_exporter": "python",
   "pygments_lexer": "ipython3",
   "version": "3.12.10"
  }
 },
 "nbformat": 4,
 "nbformat_minor": 5
}
