{
 "cells": [
  {
   "cell_type": "markdown",
   "id": "8279b6c8",
   "metadata": {},
   "source": [
    "# ADF test "
   ]
  },
  {
   "cell_type": "code",
   "execution_count": null,
   "id": "06e6d261",
   "metadata": {},
   "outputs": [],
   "source": [
    "import yfinance as yf\n",
    "import numpy as np\n",
    "import pandas as pd\n",
    "from statsmodels.tsa.stattools import adfuller\n",
    "\n",
    "# Download S&P 500 historical data (ticker: ^GSPC)\n",
    "data = yf.download('^GSPC', start='2000-01-01', end='2020-12-31')\n",
    "\n",
    "# Drop rows with missing values\n",
    "data = data.dropna()\n",
    "\n",
    "# Calculate log returns from 'Adj Close' prices\n",
    "data['LogReturn'] = np.log(data['Close'] / data['Close'].shift(1))\n",
    "\n",
    "# Drop NaNs resulting from the shift\n",
    "log_returns = data['LogReturn'].dropna()\n",
    "\n",
    "import matplotlib.pyplot as plt\n",
    "\n",
    "plt.plot(log_returns)\n",
    "plt.title('Log Returns of S&P 500 (2000-2020)')  # Add title\n",
    "plt.xlabel('Date')  # Add x-axis label\n",
    "plt.ylabel('Log Return')  # Add y-axis label\n",
    "plt.savefig('log_returns_plot.png')\n",
    "\n",
    "adf_result = adfuller(log_returns)\n",
    "\n",
    "print('ADF Statistic: %f' % adf_result[0])\n",
    "print('p-value: %f' % adf_result[1])\n",
    "print('Critical Values:')\n",
    "for key, value in adf_result[4].items():\n",
    "    print('\\t%s: %.3f' % (key, value))\n",
    "\n",
    "if adf_result[1] <= 0.05:\n",
    "    print(\"Reject the null hypothesis: Time series is stationary\")\n",
    "else:\n",
    "    print(\"Fail to reject the null hypothesis: Time series is non-stationary\")"
   ]
  }
 ],
 "metadata": {
  "kernelspec": {
   "display_name": "algotrade",
   "language": "python",
   "name": "python3"
  },
  "language_info": {
   "codemirror_mode": {
    "name": "ipython",
    "version": 3
   },
   "file_extension": ".py",
   "mimetype": "text/x-python",
   "name": "python",
   "nbconvert_exporter": "python",
   "pygments_lexer": "ipython3",
   "version": "3.12.10"
  }
 },
 "nbformat": 4,
 "nbformat_minor": 5
}
